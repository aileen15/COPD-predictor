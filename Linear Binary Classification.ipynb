{
 "cells": [
  {
   "cell_type": "code",
   "execution_count": 10,
   "metadata": {
    "collapsed": false
   },
   "outputs": [
    {
     "name": "stdout",
     "output_type": "stream",
     "text": [
      "Training confusion matrix\n",
      "\ty-hat = 1\ty-hat = -1\n",
      "y=1\t1537.0 \t\t1680.0\n",
      "y=-1\t945.0 \t\t2486.0\n",
      "Training error:  0.394855595668 %\n",
      "Test confusion matrix\n",
      "\ty-hat = 1\ty-hat = -1\n",
      "y=1\t721.0 \t\t737.0\n",
      "y=-1\t419.0 \t\t973.0\n",
      "Test error:  0.405614035088 %\n"
     ]
    }
   ],
   "source": [
    "import numpy as np\n",
    "import math\n",
    "import csv\n",
    "from random import *\n",
    "from sklearn.utils import shuffle\n",
    "\n",
    "def readMatrix(filename):\n",
    "    binary_classify = True\n",
    "    data = []\n",
    "    with open(filename, 'rb') as f:\n",
    "        reader = csv.reader(f)\n",
    "        next(reader, None)\n",
    "        for row in reader:\n",
    "            r = [row[0]]\n",
    "            for i in range(4,len(row)):\n",
    "                r.append(row[i])\n",
    "            data.append(r)\n",
    "\n",
    "    data = np.asarray(data)\n",
    "    data = data.astype(np.float)\n",
    "    np.random.shuffle(data)\n",
    "\n",
    "    height = data.shape[0]\n",
    "    width = data.shape[1]\n",
    "    features = np.concatenate((np.ones((height, 1)), data[:,0:width-1]), axis=1)\n",
    "    values = data[:,width-1:width]\n",
    "\n",
    "    binary_values = np.sign(values)\n",
    "    return features, binary_values    \n",
    "\n",
    "    \n",
    "def getCoefficients(A, b):\n",
    "    return np.matmul(np.linalg.pinv(A), b)\n",
    "    \n",
    "    \n",
    "def makePrediction(feat, coeff):\n",
    "    return np.sign(np.matmul(feat,coeff))\n",
    "\n",
    "\n",
    "def getConfusion(predictions, values):\n",
    "    confusion = np.zeros((2,2))\n",
    "    #TP FN\n",
    "    #FP TN\n",
    "    for pred_row, val_row in zip(predictions, values):\n",
    "        pred = pred_row[0]\n",
    "        val = val_row[0]\n",
    "        if(pred == 1. and val == 1.):\n",
    "            confusion[0,0] += 1 #TP\n",
    "        elif(pred == 1. and val == -1.):\n",
    "            confusion[1,0] += 1 #FP\n",
    "        elif(pred == -1. and val == 1.): \n",
    "            confusion[0,1] += 1 #FN\n",
    "        else:\n",
    "            confusion[1,1] += 1 #TN\n",
    "    return confusion\n",
    "    \n",
    "    \n",
    "def main():    \n",
    "    feat, val = readMatrix('copd_perc_all.csv')\n",
    "\n",
    "    train_num = 7*len(feat)/10\n",
    "    \n",
    "    train_feat = feat[0:train_num,:]\n",
    "    test_feat = feat[train_num:len(feat),:]\n",
    "    \n",
    "    train_val = val[0:train_num,:]\n",
    "    test_val = val[train_num:len(feat),:]\n",
    "    \n",
    "    coefficients = getCoefficients(train_feat, train_val)\n",
    "    train_pred = makePrediction(train_feat, coefficients)\n",
    "    con_train = getConfusion(train_pred, train_val)\n",
    "    \n",
    "    test_pred = makePrediction(test_feat, coefficients)\n",
    "    con_test = getConfusion(test_pred, test_val)\n",
    "    \n",
    "    print \"Training confusion matrix\"\n",
    "    print \"\\ty-hat = 1\\ty-hat = -1\"\n",
    "    print \"y=1\\t\", con_train[0,0], \"\\t\\t\", con_train[0,1]\n",
    "    print \"y=-1\\t\", con_train[1,0], \"\\t\\t\", con_train[1,1]\n",
    "    train_err = (con_train[1,0] + con_train[0,1])/np.sum(con_train)\n",
    "    print \"Training error: \", train_err, \"%\"\n",
    "    \n",
    "    print \"Test confusion matrix\"\n",
    "    print \"\\ty-hat = 1\\ty-hat = -1\"\n",
    "    print \"y=1\\t\", con_test[0,0], \"\\t\\t\", con_test[0,1]\n",
    "    print \"y=-1\\t\", con_test[1,0], \"\\t\\t\", con_test[1,1]\n",
    "    test_err = (con_test[1,0] + con_test[0,1])/np.sum(con_test)\n",
    "    print \"Test error: \", test_err, \"%\"\n",
    "\n",
    "    return\n",
    "\n",
    "\n",
    "if __name__ == '__main__':\n",
    "    main()\n",
    "\n",
    "    "
   ]
  },
  {
   "cell_type": "code",
   "execution_count": null,
   "metadata": {
    "collapsed": false
   },
   "outputs": [],
   "source": []
  },
  {
   "cell_type": "code",
   "execution_count": null,
   "metadata": {
    "collapsed": true
   },
   "outputs": [],
   "source": []
  }
 ],
 "metadata": {
  "kernelspec": {
   "display_name": "Python 2",
   "language": "python",
   "name": "python2"
  },
  "language_info": {
   "codemirror_mode": {
    "name": "ipython",
    "version": 2
   },
   "file_extension": ".py",
   "mimetype": "text/x-python",
   "name": "python",
   "nbconvert_exporter": "python",
   "pygments_lexer": "ipython2",
   "version": "2.7.13"
  }
 },
 "nbformat": 4,
 "nbformat_minor": 2
}
